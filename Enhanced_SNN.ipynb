{
 "cells": [
  {
   "cell_type": "code",
   "execution_count": 1,
   "metadata": {},
   "outputs": [
    {
     "name": "stdout",
     "output_type": "stream",
     "text": [
      "Jupyter environment detected. Enabling Open3D WebVisualizer.\n",
      "[Open3D INFO] WebRTC GUI backend enabled.\n",
      "[Open3D INFO] WebRTCWindowSystem: HTTP handshake server disabled.\n"
     ]
    }
   ],
   "source": [
    "import warnings\n",
    "warnings.filterwarnings('ignore')\n",
    "\n",
    "from helper_functions.train_funcs_px import *\n"
   ]
  },
  {
   "cell_type": "code",
   "execution_count": 2,
   "metadata": {},
   "outputs": [
    {
     "data": {
      "text/plain": [
       "' root_path = \"D:/ModelNet10/\"\\ncsv_path = \"metadata_modelnet10.csv\"\\ndf = pd.read_csv(csv_path)\\ndf[\\'path\\'] = root_path + df[\\'object_path\\']\\n\\n# Process a subset of the dataset with adaptive simplification\\nsummary_df, results = process_modelnet10_df(\\n    df,\\n    num_samples=None,    # Process 100 samples\\n    visualize=False,     # Visualize results\\n    voxel_size_ratio=50, # Use a voxel size ratio of 25\\n    target_face_reduction=0.33,  # Reduce faces to %\\n    show_details=False\\n)  '"
      ]
     },
     "execution_count": 2,
     "metadata": {},
     "output_type": "execute_result"
    }
   ],
   "source": [
    "\"\"\" root_path = \"D:/ModelNet10/\"\n",
    "csv_path = \"metadata_modelnet10.csv\"\n",
    "df = pd.read_csv(csv_path)\n",
    "df['path'] = root_path + df['object_path']\n",
    "\n",
    "# Process a subset of the dataset with adaptive simplification\n",
    "summary_df, results = process_modelnet10_df(\n",
    "    df,\n",
    "    num_samples=None,    # Process 100 samples\n",
    "    visualize=False,     # Visualize results\n",
    "    voxel_size_ratio=50, # Use a voxel size ratio of 25\n",
    "    target_face_reduction=0.33,  # Reduce faces to %\n",
    "    show_details=False\n",
    ")  \"\"\""
   ]
  },
  {
   "cell_type": "code",
   "execution_count": 3,
   "metadata": {},
   "outputs": [
    {
     "data": {
      "text/plain": [
       "' \\nroot_path = \"Data\\\\Simplified_50_0.33\\\\\"\\ncsv_path = \"metadata_modelnet10.csv\"\\ndf = pd.read_csv(csv_path)\\ndf[\\'path\\'] = root_path + df[\\'object_path\\']\\n\\n\\n\\nprocess_all_meshes(df, batch_size=100, output_dir=\\'Data\\\\he_50_33\\') '"
      ]
     },
     "execution_count": 3,
     "metadata": {},
     "output_type": "execute_result"
    }
   ],
   "source": [
    "\"\"\" \n",
    "root_path = \"Data\\\\Simplified_50_0.33\\\\\"\n",
    "csv_path = \"metadata_modelnet10.csv\"\n",
    "df = pd.read_csv(csv_path)\n",
    "df['path'] = root_path + df['object_path']\n",
    "\n",
    "\n",
    "\n",
    "process_all_meshes(df, batch_size=100, output_dir='Data\\he_50_33') \"\"\"\n"
   ]
  },
  {
   "cell_type": "code",
   "execution_count": null,
   "metadata": {},
   "outputs": [
    {
     "name": "stdout",
     "output_type": "stream",
     "text": [
      "Using device: cuda\n",
      "Epoch 1/30 - Current LR: 0.005000\n",
      "Epoch 1/30:\n",
      "  Train Loss: 4.1652, Train Acc: 0.3353\n",
      "  Val Loss: 0.9947, Val Acc: 0.5132\n",
      "New best model saved to Saved/Enhanced_SNN_hd64_lr0.005_wd1e-05_epochs30_seed42_bs16_drop0.3_bn1_best.pt with val acc: 0.5132\n",
      "Epoch 2/30 - Current LR: 0.004987\n",
      "Epoch 2/30:\n",
      "  Train Loss: 1.2893, Train Acc: 0.5044\n",
      "  Val Loss: 0.8170, Val Acc: 0.6057\n",
      "New best model saved to Saved/Enhanced_SNN_hd64_lr0.005_wd1e-05_epochs30_seed42_bs16_drop0.3_bn1_best.pt with val acc: 0.6057\n",
      "Epoch 3/30 - Current LR: 0.004946\n",
      "Epoch 3/30:\n",
      "  Train Loss: 0.7440, Train Acc: 0.6094\n",
      "  Val Loss: 0.6038, Val Acc: 0.6641\n",
      "New best model saved to Saved/Enhanced_SNN_hd64_lr0.005_wd1e-05_epochs30_seed42_bs16_drop0.3_bn1_best.pt with val acc: 0.6641\n",
      "Epoch 4/30 - Current LR: 0.004880\n",
      "Epoch 4/30:\n",
      "  Train Loss: 0.6259, Train Acc: 0.6515\n",
      "  Val Loss: 0.5435, Val Acc: 0.6883\n",
      "New best model saved to Saved/Enhanced_SNN_hd64_lr0.005_wd1e-05_epochs30_seed42_bs16_drop0.3_bn1_best.pt with val acc: 0.6883\n",
      "Epoch 5/30 - Current LR: 0.004788\n",
      "Epoch 5/30:\n",
      "  Train Loss: 0.5418, Train Acc: 0.6941\n",
      "  Val Loss: 0.4931, Val Acc: 0.7093\n",
      "New best model saved to Saved/Enhanced_SNN_hd64_lr0.005_wd1e-05_epochs30_seed42_bs16_drop0.3_bn1_best.pt with val acc: 0.7093\n",
      "Validation Confusion Matrix (Epoch 5):\n",
      "[[21  6  0  0  2  2  4  5 10  0]\n",
      " [ 0 86  8  0  0  1  0  3  2  0]\n",
      " [ 0  9 85  0  0  0  2  0  2  2]\n",
      " [ 0  2  0 27  2  0 12 14 29  0]\n",
      " [ 0  1  1  1 62  4  9  2  6  0]\n",
      " [ 0  2  0  0  1 88  2  2  5  0]\n",
      " [ 0  7  0  5 23  1 33  1 16  0]\n",
      " [ 0  2  0  1  2  0  1 93  1  0]\n",
      " [ 0  3  4  3  1  0  3  1 85  0]\n",
      " [ 0  1 28  0  0  0  0  1  6 64]]\n",
      "Epoch 6/30 - Current LR: 0.004672\n",
      "Epoch 6/30:\n",
      "  Train Loss: 0.4840, Train Acc: 0.7179\n",
      "  Val Loss: 0.3951, Val Acc: 0.7544\n",
      "New best model saved to Saved/Enhanced_SNN_hd64_lr0.005_wd1e-05_epochs30_seed42_bs16_drop0.3_bn1_best.pt with val acc: 0.7544\n",
      "Epoch 7/30 - Current LR: 0.004532\n",
      "Epoch 7/30:\n",
      "  Train Loss: 0.4271, Train Acc: 0.7342\n",
      "  Val Loss: 0.3881, Val Acc: 0.7643\n",
      "New best model saved to Saved/Enhanced_SNN_hd64_lr0.005_wd1e-05_epochs30_seed42_bs16_drop0.3_bn1_best.pt with val acc: 0.7643\n",
      "Epoch 8/30 - Current LR: 0.004371\n",
      "Epoch 8/30:\n",
      "  Train Loss: 0.4051, Train Acc: 0.7527\n",
      "  Val Loss: 0.3698, Val Acc: 0.7687\n",
      "New best model saved to Saved/Enhanced_SNN_hd64_lr0.005_wd1e-05_epochs30_seed42_bs16_drop0.3_bn1_best.pt with val acc: 0.7687\n",
      "Epoch 9/30 - Current LR: 0.004189\n",
      "Epoch 9/30:\n",
      "  Train Loss: 0.3875, Train Acc: 0.7635\n",
      "  Val Loss: 0.3526, Val Acc: 0.7808\n",
      "New best model saved to Saved/Enhanced_SNN_hd64_lr0.005_wd1e-05_epochs30_seed42_bs16_drop0.3_bn1_best.pt with val acc: 0.7808\n",
      "Epoch 10/30 - Current LR: 0.003990\n",
      "Epoch 10/30:\n",
      "  Train Loss: 0.3416, Train Acc: 0.7823\n",
      "  Val Loss: 0.3594, Val Acc: 0.7753\n",
      "Validation Confusion Matrix (Epoch 10):\n",
      "[[30  4  0  0  1  0  5  5  4  1]\n",
      " [ 0 94  0  0  0  0  0  2  4  0]\n",
      " [ 0  5 87  0  0  0  1  1  5  1]\n",
      " [ 0  1  0 34  3  0  9 16 23  0]\n",
      " [ 0  0  0  1 57  0 22  4  2  0]\n",
      " [ 0  4  0  0  4 82  1  7  2  0]\n",
      " [ 0  0  0  1 18  0 52  3 12  0]\n",
      " [ 0  2  0  0  1  0  2 95  0  0]\n",
      " [ 0  1  2  4  0  0  6  1 86  0]\n",
      " [ 2  2  5  0  0  0  0  1  3 87]]\n",
      "Epoch 11/30 - Current LR: 0.003775\n",
      "Epoch 11/30:\n",
      "  Train Loss: 0.3235, Train Acc: 0.7940\n",
      "  Val Loss: 0.3282, Val Acc: 0.7907\n",
      "New best model saved to Saved/Enhanced_SNN_hd64_lr0.005_wd1e-05_epochs30_seed42_bs16_drop0.3_bn1_best.pt with val acc: 0.7907\n",
      "Epoch 12/30 - Current LR: 0.003547\n",
      "Epoch 12/30:\n",
      "  Train Loss: 0.3101, Train Acc: 0.7968\n",
      "  Val Loss: 0.3153, Val Acc: 0.7885\n",
      "Epoch 13/30 - Current LR: 0.003307\n",
      "Epoch 13/30:\n",
      "  Train Loss: 0.3115, Train Acc: 0.8006\n",
      "  Val Loss: 0.3253, Val Acc: 0.7985\n",
      "New best model saved to Saved/Enhanced_SNN_hd64_lr0.005_wd1e-05_epochs30_seed42_bs16_drop0.3_bn1_best.pt with val acc: 0.7985\n",
      "Epoch 14/30 - Current LR: 0.003059\n",
      "Epoch 14/30:\n",
      "  Train Loss: 0.2666, Train Acc: 0.8123\n",
      "  Val Loss: 0.3235, Val Acc: 0.8062\n",
      "New best model saved to Saved/Enhanced_SNN_hd64_lr0.005_wd1e-05_epochs30_seed42_bs16_drop0.3_bn1_best.pt with val acc: 0.8062\n",
      "Epoch 15/30 - Current LR: 0.002806\n",
      "Epoch 15/30:\n",
      "  Train Loss: 0.2766, Train Acc: 0.8208\n",
      "  Val Loss: 0.2858, Val Acc: 0.8216\n",
      "New best model saved to Saved/Enhanced_SNN_hd64_lr0.005_wd1e-05_epochs30_seed42_bs16_drop0.3_bn1_best.pt with val acc: 0.8216\n",
      "Validation Confusion Matrix (Epoch 15):\n",
      "[[36  4  0  0  2  3  1  1  2  1]\n",
      " [ 0 94  4  0  0  0  0  0  2  0]\n",
      " [ 0  1 95  0  0  0  0  0  1  3]\n",
      " [ 1  4  0 47  2  0  3  6 22  1]\n",
      " [ 0  0  1  1 63  1 17  0  3  0]\n",
      " [ 0  2  0  1  2 92  0  2  1  0]\n",
      " [ 0  1  1  3 21  0 44  0 16  0]\n",
      " [ 0  4  0  0  1  2  2 90  1  0]\n",
      " [ 0  1  3  3  0  0  3  1 89  0]\n",
      " [ 0  2  1  0  0  0  0  0  1 96]]\n",
      "Epoch 16/30 - Current LR: 0.002550\n"
     ]
    },
    {
     "name": "stderr",
     "output_type": "stream",
     "text": [
      "Exception ignored in: <bound method IPythonKernel._clean_thread_parent_frames of <ipykernel.ipkernel.IPythonKernel object at 0x000001EC95618BD0>>\n",
      "Traceback (most recent call last):\n",
      "  File \"C:\\Users\\Adeel\\AppData\\Roaming\\Python\\Python311\\site-packages\\ipykernel\\ipkernel.py\", line 775, in _clean_thread_parent_frames\n",
      "    def _clean_thread_parent_frames(\n",
      "\n",
      "KeyboardInterrupt: \n",
      "Exception ignored in: <bound method IPythonKernel._clean_thread_parent_frames of <ipykernel.ipkernel.IPythonKernel object at 0x000001EC95618BD0>>\n",
      "Traceback (most recent call last):\n",
      "  File \"C:\\Users\\Adeel\\AppData\\Roaming\\Python\\Python311\\site-packages\\ipykernel\\ipkernel.py\", line 775, in _clean_thread_parent_frames\n",
      "    def _clean_thread_parent_frames(\n",
      "\n",
      "KeyboardInterrupt: \n"
     ]
    }
   ],
   "source": [
    "train_enhanced_model(root_path='he_50_33/', batch_size=16, lr=0.005, weight_decay=1e-5, num_epochs=30, save_path=None,dropout_rate=0.3, use_ema=False, use_batch_norm=True,lr_min=0.0001,lr_max=0.01, label_smoothing=0, log_file='Enhanced_SNN.csv')"
   ]
  }
 ],
 "metadata": {
  "kernelspec": {
   "display_name": "Python 3",
   "language": "python",
   "name": "python3"
  },
  "language_info": {
   "codemirror_mode": {
    "name": "ipython",
    "version": 3
   },
   "file_extension": ".py",
   "mimetype": "text/x-python",
   "name": "python",
   "nbconvert_exporter": "python",
   "pygments_lexer": "ipython3",
   "version": "3.11.0"
  }
 },
 "nbformat": 4,
 "nbformat_minor": 2
}
